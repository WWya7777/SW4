{
 "cells": [
  {
   "cell_type": "markdown",
   "metadata": {},
   "source": [
    "1. Ask user to enter a string and check that it is made up only alphabets:"
   ]
  },
  {
   "cell_type": "code",
   "execution_count": null,
   "metadata": {},
   "outputs": [],
   "source": [
    "def is_alphabetic(input_string):\n",
    "    return input_string.isalpha()\n",
    "\n",
    "user_input = input(\"Enter a string: \")\n",
    "\n",
    "if is_alphabetic(user_input):\n",
    "    print(\"The input string contains only alphabetic characters.\")\n",
    "else:\n",
    "    print(\"The input string contains non-alphabetic characters.\")"
   ]
  },
  {
   "cell_type": "markdown",
   "metadata": {},
   "source": [
    "2. Now, make sure that the string is made up of both alphabets and numbers:\n",
    "\n",
    "TRY using isalnum() function and then entering only alhpabets in the string and see what happens."
   ]
  },
  {
   "cell_type": "code",
   "execution_count": null,
   "metadata": {},
   "outputs": [],
   "source": [
    "def check_alphabets_and_numbers():\n",
    "    user_input = input(\"Enter a string: \")\n",
    "\n",
    "    if user_input.isalnum():\n",
    "        print(\"The string contains both alphabets and numbers.\")\n",
    "    else:\n",
    "        print(\"The string does not contain both alphabets and numbers.\")\n",
    "\n",
    "check_alphabets_and_numbers()"
   ]
  },
  {
   "cell_type": "markdown",
   "metadata": {},
   "source": [
    "3. Now, make sure that the string is made up of both alphabets and at least one number:\n"
   ]
  },
  {
   "cell_type": "code",
   "execution_count": null,
   "metadata": {},
   "outputs": [],
   "source": [
    "def check_alphabets_and_numbers_with_number():\n",
    "    user_input = input(\"Enter a string: \")\n",
    "    \n",
    "    has_alpha = any(char.isalpha() for char in user_input)\n",
    "    has_digit = any(char.isdigit() for char in user_input)\n",
    "\n",
    "    if has_alpha and has_digit:\n",
    "        print(\"The string contains both alphabets and at least one number.\")\n",
    "    else:\n",
    "        print(\"The string does not contain both alphabets and at least one number.\")\n",
    "\n",
    "check_alphabets_and_numbers_with_number()"
   ]
  },
  {
   "cell_type": "markdown",
   "metadata": {},
   "source": [
    "4. Now, make sure that the string is made up of both alphabets, at least one number, and at least one special character:"
   ]
  },
  {
   "cell_type": "code",
   "execution_count": null,
   "metadata": {},
   "outputs": [],
   "source": [
    "def check_alphabets_numbers_special_chars():\n",
    "    user_input = input(\"Enter a string: \")\n",
    "\n",
    "    has_alpha = any(char.isalpha() for char in user_input)\n",
    "    has_digit = any(char.isdigit() for char in user_input)\n",
    "    has_special = any(not char.isalnum() for char in user_input)\n",
    "\n",
    "    if has_alpha and has_digit and has_special:\n",
    "        print(\"The string contains alphabets, at least one number, and at least one special character.\")\n",
    "    else:\n",
    "        print(\"The string does not meet the specified criteria.\")\n",
    "\n",
    "check_alphabets_numbers_special_chars()"
   ]
  },
  {
   "cell_type": "markdown",
   "metadata": {},
   "source": [
    "5. Now, modify the above code so that if the user enters an invalid string, the program should ask the user to enter another string again, and keep asking until a valid string has been entered."
   ]
  },
  {
   "cell_type": "code",
   "execution_count": null,
   "metadata": {},
   "outputs": [],
   "source": [
    "def check_valid_string():\n",
    "    while True:\n",
    "        user_input = input(\"Enter a string: \")\n",
    "\n",
    "        has_alpha = any(char.isalpha() for char in user_input)\n",
    "        has_digit = any(char.isdigit() for char in user_input)\n",
    "        has_special = any(not char.isalnum() for char in user_input)\n",
    "\n",
    "        if has_alpha and has_digit and has_special:\n",
    "            print(\"The string contains alphabets, at least one number, and at least one special character.\")\n",
    "            break\n",
    "        else:\n",
    "            print(\"The string does not meet the specified criteria. Please try again.\")\n",
    "\n",
    "check_valid_string()"
   ]
  }
 ],
 "metadata": {
  "kernelspec": {
   "display_name": "Python 3",
   "language": "python",
   "name": "python3"
  },
  "language_info": {
   "codemirror_mode": {
    "name": "ipython",
    "version": 3
   },
   "file_extension": ".py",
   "mimetype": "text/x-python",
   "name": "python",
   "nbconvert_exporter": "python",
   "pygments_lexer": "ipython3",
   "version": "3.11.5"
  }
 },
 "nbformat": 4,
 "nbformat_minor": 2
}
